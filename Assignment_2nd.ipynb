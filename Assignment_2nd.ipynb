{
 "cells": [
  {
   "cell_type": "code",
   "execution_count": null,
   "id": "b38bfbae-880b-498d-8322-765f9b32f131",
   "metadata": {},
   "outputs": [],
   "source": [
    "ans-1)"
   ]
  },
  {
   "cell_type": "code",
   "execution_count": 1,
   "id": "960c6788-443a-41fb-a882-8a8139800cf6",
   "metadata": {},
   "outputs": [
    {
     "name": "stdin",
     "output_type": "stream",
     "text": [
      "enter percentage  87\n"
     ]
    },
    {
     "name": "stdout",
     "output_type": "stream",
     "text": [
      "Grade = B\n"
     ]
    }
   ],
   "source": [
    "marks = float(input(\"enter percentage \"))\n",
    "if marks > 90 :\n",
    "    print('Grade = A')\n",
    "elif marks > 80 and marks <= 90 :\n",
    "    print('Grade = B')\n",
    "elif marks >= 60 and marks <= 80 :\n",
    "    print('Grade = C')\n",
    "else :\n",
    "    print('Grade = D')"
   ]
  },
  {
   "cell_type": "code",
   "execution_count": null,
   "id": "6dce8bb7-559b-47f1-a8c3-11c33883f9f0",
   "metadata": {},
   "outputs": [],
   "source": [
    "ans-2)"
   ]
  },
  {
   "cell_type": "code",
   "execution_count": 2,
   "id": "358992b9-75f2-4d52-89ae-8d5fe719005f",
   "metadata": {},
   "outputs": [
    {
     "name": "stdin",
     "output_type": "stream",
     "text": [
      "enter bike cost :  60000\n"
     ]
    },
    {
     "name": "stdout",
     "output_type": "stream",
     "text": [
      "you have to pay 10% Tax.\n"
     ]
    }
   ],
   "source": [
    "cost = float(input(\"enter bike cost : \"))\n",
    "if cost > 100000 :\n",
    "    print(\"you have to pay 15% Tax.\")\n",
    "elif cost > 50000 and cost <= 100000 :\n",
    "    print(\"you have to pay 10% Tax.\")\n",
    "elif cost <= 50000 :\n",
    "    print(\"you have to pay 5% Tax.\")"
   ]
  },
  {
   "cell_type": "code",
   "execution_count": null,
   "id": "bec55f0c-60e6-43a3-bc2d-4de1682a49d0",
   "metadata": {},
   "outputs": [],
   "source": [
    "ans-3)"
   ]
  },
  {
   "cell_type": "code",
   "execution_count": 3,
   "id": "fb3e3fb0-8773-4995-b075-255452ef23b6",
   "metadata": {},
   "outputs": [
    {
     "name": "stdout",
     "output_type": "stream",
     "text": [
      "Delhi, Agra, Jaipur\n"
     ]
    },
    {
     "name": "stdin",
     "output_type": "stream",
     "text": [
      "enter any city shows here :  jaipur\n"
     ]
    },
    {
     "name": "stdout",
     "output_type": "stream",
     "text": [
      "monument = jal mahal\n"
     ]
    }
   ],
   "source": [
    "print(\"Delhi, Agra, Jaipur\")\n",
    "city = input(\"enter any city shows here : \")\n",
    "if city == 'Delhi' or city == 'delhi' :\n",
    "    print(\"monument = red fort\")\n",
    "elif city == 'Agra' or city == 'agra' :\n",
    "    print(\"monument = taj mahal\")\n",
    "elif city == 'jaipur' or city == 'Jaipur' :\n",
    "    print(\"monument = jal mahal\")\n",
    "else :\n",
    "    print(\"wrong input \")"
   ]
  },
  {
   "cell_type": "code",
   "execution_count": null,
   "id": "f5efec8f-894a-45a4-a424-efe926b8e7d5",
   "metadata": {},
   "outputs": [],
   "source": [
    "ans-4)"
   ]
  },
  {
   "cell_type": "code",
   "execution_count": 4,
   "id": "68728902-7516-4474-a7d8-0591022d62ac",
   "metadata": {},
   "outputs": [
    {
     "name": "stdin",
     "output_type": "stream",
     "text": [
      "enter number  300\n"
     ]
    },
    {
     "name": "stdout",
     "output_type": "stream",
     "text": [
      "the given number is divided by 3 unles it is less than 10 is  4\n"
     ]
    }
   ],
   "source": [
    "#taking no\n",
    "number = float(input(\"enter number \"))\n",
    "i = 0\n",
    "while number > 10 :\n",
    "    number = number/3\n",
    "    i = i + 1\n",
    "print(\"the given number is divided by 3 unles it is less than 10 is \" ,i)   "
   ]
  },
  {
   "cell_type": "code",
   "execution_count": null,
   "id": "10f992d6-8140-48c4-ae62-32c570e37d08",
   "metadata": {},
   "outputs": [],
   "source": [
    "ans-5)"
   ]
  },
  {
   "cell_type": "code",
   "execution_count": null,
   "id": "bcb9ff71-f7f1-4425-8c79-714a601af025",
   "metadata": {},
   "outputs": [],
   "source": [
    "we can use while loop in python when we need to access\n",
    "a particular data which we needed or we can access while\n",
    "loop unless the given particular condition is wrong.\n",
    "\n",
    "example is given below :"
   ]
  },
  {
   "cell_type": "code",
   "execution_count": 5,
   "id": "8e132ed2-e2cc-434b-bc91-d8899b0bba46",
   "metadata": {},
   "outputs": [
    {
     "name": "stdin",
     "output_type": "stream",
     "text": [
      "enter number  10\n"
     ]
    },
    {
     "name": "stdout",
     "output_type": "stream",
     "text": [
      "10 * 1 = 10\n",
      "10 * 2 = 20\n",
      "10 * 3 = 30\n",
      "10 * 4 = 40\n",
      "10 * 5 = 50\n",
      "10 * 6 = 60\n",
      "10 * 7 = 70\n",
      "10 * 8 = 80\n",
      "10 * 9 = 90\n",
      "10 * 10 = 100\n"
     ]
    }
   ],
   "source": [
    "#we can print a table with the help of while loop\n",
    "number = int(input(\"enter number \"))\n",
    "i = 1\n",
    "result = 1\n",
    "while i <= 10 :\n",
    "    result = number * i\n",
    "    print(number ,\"*\" ,i ,\"=\" ,result)\n",
    "    i=i+1\n",
    "    "
   ]
  },
  {
   "cell_type": "code",
   "execution_count": null,
   "id": "76aa8b7c-0fb9-4836-9074-afa29e0519cf",
   "metadata": {},
   "outputs": [],
   "source": [
    "ans-6)"
   ]
  },
  {
   "cell_type": "code",
   "execution_count": 13,
   "id": "4f46af79-bec4-4a2e-8d1e-8dbfa6b067ae",
   "metadata": {},
   "outputs": [
    {
     "name": "stdout",
     "output_type": "stream",
     "text": [
      "*  \n",
      "*  *  \n",
      "*  *  *  \n",
      "*  *  *  *  \n",
      "*  *  *  *  *  \n",
      "1 \n",
      "2 2 \n",
      "3 3 3 \n",
      "4 4 4 4 \n",
      "5 5 5 5 5 \n",
      "1 \n",
      "1 2 \n",
      "1 2 3 \n",
      "1 2 3 4 \n",
      "1 2 3 4 5 \n"
     ]
    }
   ],
   "source": [
    "#using nested while loop to print 3 different patterns\n",
    "#1st pattern\n",
    "i = 1\n",
    "while i <= 5:\n",
    "    j = 1\n",
    "    while j <= i:\n",
    "        print(\"* \",end=\" \")\n",
    "        j = j + 1\n",
    "    print()   \n",
    "    i = i + 1\n",
    "    \n",
    "#2nd pattern\n",
    "i = 1\n",
    "while i <= 5:\n",
    "    j = 1\n",
    "    while j <= i:\n",
    "        print(i ,end=\" \")\n",
    "        j = j + 1\n",
    "    print()   \n",
    "    i = i + 1\n",
    "    \n",
    "#3rd pattern\n",
    "i = 1\n",
    "while i <= 5:\n",
    "    j = 1\n",
    "    while j <= i:\n",
    "        print(j ,end=\" \")\n",
    "        j = j + 1\n",
    "    print()   \n",
    "    i = i + 1"
   ]
  },
  {
   "cell_type": "code",
   "execution_count": null,
   "id": "78a4a3a6-7c51-457c-8b19-e399c7f4f62c",
   "metadata": {},
   "outputs": [],
   "source": [
    "ans-7)"
   ]
  },
  {
   "cell_type": "code",
   "execution_count": 1,
   "id": "bb588355-d9a4-4482-8460-75e25101e494",
   "metadata": {},
   "outputs": [
    {
     "name": "stdout",
     "output_type": "stream",
     "text": [
      "10\n",
      "9\n",
      "8\n",
      "7\n",
      "6\n",
      "5\n",
      "4\n",
      "3\n",
      "2\n",
      "1\n"
     ]
    }
   ],
   "source": [
    "#reversing while loop to display numbers 10 to 1\n",
    "i = 10\n",
    "while i >0 :\n",
    "    print(i)\n",
    "    i = i-1"
   ]
  },
  {
   "cell_type": "code",
   "execution_count": null,
   "id": "e27243f4-b148-46f1-a6ec-eb528a3c9ef5",
   "metadata": {},
   "outputs": [],
   "source": [
    "ans-8)"
   ]
  },
  {
   "cell_type": "code",
   "execution_count": 2,
   "id": "b9068ba3-a274-406c-a4ac-7acfbb96c149",
   "metadata": {},
   "outputs": [
    {
     "name": "stdout",
     "output_type": "stream",
     "text": [
      "10\n",
      "9\n",
      "8\n",
      "7\n",
      "6\n",
      "5\n",
      "4\n",
      "3\n",
      "2\n",
      "1\n"
     ]
    }
   ],
   "source": [
    "#reversing while loop to display numbers 10 to 1\n",
    "i = 10\n",
    "while i >0 :\n",
    "    print(i)\n",
    "    i = i-1"
   ]
  },
  {
   "cell_type": "code",
   "execution_count": null,
   "id": "9a02bcd8-1281-4d8b-ab2d-0eb91fae2b1b",
   "metadata": {},
   "outputs": [],
   "source": []
  }
 ],
 "metadata": {
  "kernelspec": {
   "display_name": "Python 3 (ipykernel)",
   "language": "python",
   "name": "python3"
  },
  "language_info": {
   "codemirror_mode": {
    "name": "ipython",
    "version": 3
   },
   "file_extension": ".py",
   "mimetype": "text/x-python",
   "name": "python",
   "nbconvert_exporter": "python",
   "pygments_lexer": "ipython3",
   "version": "3.10.8"
  }
 },
 "nbformat": 4,
 "nbformat_minor": 5
}
