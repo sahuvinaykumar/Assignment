{
 "cells": [
  {
   "cell_type": "code",
   "execution_count": null,
   "id": "e30fdf60-970e-424c-ad71-f57d4c9cc030",
   "metadata": {},
   "outputs": [],
   "source": [
    "ans-1) Guido Van Rossum developed python programming language in 1970's.\n"
   ]
  },
  {
   "cell_type": "code",
   "execution_count": null,
   "id": "c510f611-edaa-432c-b5dd-692458bfa8d7",
   "metadata": {},
   "outputs": [],
   "source": [
    "ans-2)Python is multi-paradigm programming language which support object oriented programing and structured\n",
    "      programming and also it's many features support functional and aspect-oriented programming.\n",
    "    "
   ]
  },
  {
   "cell_type": "code",
   "execution_count": null,
   "id": "e1ceb678-6455-44f7-a430-ad939694ee01",
   "metadata": {},
   "outputs": [],
   "source": [
    "ans-3) Yes, python is case sensitive language and also case sensitive when dealing with identifiers.\n"
   ]
  },
  {
   "cell_type": "code",
   "execution_count": null,
   "id": "f4b4b971-e086-4478-9fd0-3e1ada29f914",
   "metadata": {},
   "outputs": [],
   "source": [
    "ans-4) The correct extension of the python file is .py extension.\n"
   ]
  },
  {
   "cell_type": "code",
   "execution_count": null,
   "id": "a162e4bf-8d85-4066-a7fe-eef81097e929",
   "metadata": {},
   "outputs": [],
   "source": [
    "ans-5) Python is interpreted programming language so the source code is converted in bytecode then executed\n",
    "      by python virtual machine.\n",
    "    "
   ]
  },
  {
   "cell_type": "code",
   "execution_count": null,
   "id": "bce32d6e-2e0e-424e-9cee-fc6c4a65361e",
   "metadata": {},
   "outputs": [],
   "source": [
    "ans-6) The code of block which is used to define in python language is INDENTATION which means each python \n",
    "      code is seprated by same amount of whitespace.\n",
    "    ex:- conditional statement(if-else).\n",
    "    "
   ]
  },
  {
   "cell_type": "code",
   "execution_count": null,
   "id": "bb8c89ad-9ce7-46ca-b8c9-494063d6395e",
   "metadata": {},
   "outputs": [],
   "source": [
    "ans-7) In python we can comment any line or code by adding # sign before code or line.\n"
   ]
  },
  {
   "cell_type": "code",
   "execution_count": null,
   "id": "f830ad5b-bd38-4215-822a-00566a0297b3",
   "metadata": {},
   "outputs": [],
   "source": [
    "ans-8) The sys.version() function help us to find the version of python which we currently using that time.\n"
   ]
  },
  {
   "cell_type": "code",
   "execution_count": null,
   "id": "3b3df710-cfff-4531-bae0-f7334391472d",
   "metadata": {},
   "outputs": [],
   "source": [
    "ans-9) lambda\n"
   ]
  },
  {
   "cell_type": "code",
   "execution_count": null,
   "id": "7f1edf8f-99aa-446b-8828-df1d9656c4d0",
   "metadata": {},
   "outputs": [],
   "source": [
    "ans-10) In python, pip stand for 'preferred installer program'.\n"
   ]
  },
  {
   "cell_type": "code",
   "execution_count": null,
   "id": "6e33118c-b22e-45fe-a8f3-097ca6147440",
   "metadata": {},
   "outputs": [],
   "source": [
    "ans-11) Few Built-in functions are:-\n",
    "        a)type()\n",
    "        b)input()\n",
    "        c)print() functions etc.\n",
    "        "
   ]
  },
  {
   "cell_type": "code",
   "execution_count": null,
   "id": "4e2a3a10-4fb0-493e-b658-fb6ad3577dab",
   "metadata": {},
   "outputs": [],
   "source": [
    "ans-12) The maximum possible range of identifier in python is 79 characters.\n"
   ]
  },
  {
   "cell_type": "code",
   "execution_count": null,
   "id": "a3da9450-0da4-4f57-a352-35d532022786",
   "metadata": {},
   "outputs": [],
   "source": [
    "ans-13) Benifits of using python to goes industrial work in different domain like:-\n",
    "       a)Data science\n",
    "       b)Web development\n",
    "       c)Basic game development etc.   \n",
    "    "
   ]
  },
  {
   "cell_type": "code",
   "execution_count": null,
   "id": "556652f1-df30-43cb-aa33-374db546e832",
   "metadata": {},
   "outputs": [],
   "source": [
    "ans-14)Memory management in Python involves a private heap containing all Python objects & data structures.\n",
    "       The management of this private heap is ensured internally by the Python memory manager.\n",
    "    "
   ]
  },
  {
   "cell_type": "code",
   "execution_count": null,
   "id": "f7abc2e5-ef13-491f-96d8-91e5271c97b2",
   "metadata": {},
   "outputs": [],
   "source": [
    "ans-15)The complete path of python.exe can be added by:\n",
    "\n",
    "       a)Right-clicking on PC and going to Properties.\n",
    "\n",
    "       b)Clicking on the Advanced system settings in the menu on the left.\n",
    "\n",
    "       c)Clicking on the Environment Variables button on the bottom right.\n",
    "\n",
    "       d)In the System variables section, selecting the Path variable and clicking on Edit.\n",
    "         The next screen will show all the directories that are currently a part of the PATH variable.\n",
    "\n",
    "       e)Clicking on New and entering Python’s install directory.\n",
    "    "
   ]
  },
  {
   "cell_type": "code",
   "execution_count": null,
   "id": "974fd3c0-084d-4e9c-a154-e79990ad4009",
   "metadata": {},
   "outputs": [],
   "source": [
    "ans-16)Indentation refers to the spaces at the beginning of a code line. Where in other programming \n",
    "       languages the indentation in code is for readability only, the indentation in Python is very \n",
    "       important.Python uses indentation to indicate a block of code.\n",
    "        "
   ]
  },
  {
   "cell_type": "code",
   "execution_count": null,
   "id": "d08045ac-9655-4517-8992-bd8abfcd6e20",
   "metadata": {},
   "outputs": [],
   "source": []
  }
 ],
 "metadata": {
  "kernelspec": {
   "display_name": "Python 3 (ipykernel)",
   "language": "python",
   "name": "python3"
  },
  "language_info": {
   "codemirror_mode": {
    "name": "ipython",
    "version": 3
   },
   "file_extension": ".py",
   "mimetype": "text/x-python",
   "name": "python",
   "nbconvert_exporter": "python",
   "pygments_lexer": "ipython3",
   "version": "3.10.8"
  }
 },
 "nbformat": 4,
 "nbformat_minor": 5
}
